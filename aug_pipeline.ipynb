{
 "cells": [
  {
   "cell_type": "code",
   "execution_count": 7,
   "metadata": {},
   "outputs": [],
   "source": [
    "import numpy as np \n",
    "import pandas as pd \n",
    "\n",
    "import cv2\n",
    "from tensorflow import keras\n",
    "from imgaug import augmenters as ia\n",
    "import os\n",
    "import matplotlib.pyplot as plt\n",
    "import gc; gc.enable()\n",
    "\n",
    "# here = os.path.dirname(os.path.abspath(__file__))\n",
    "PATH_IN =  '/Users/flatironschool/Documents/Kaggle/Kaggle-DR-detection/'\n",
    "PATH_IMG = PATH_IN + \"dataset/train_images/\"\n",
    "PATH_OUT = PATH_IN + 'data/train/'\n",
    "# body\n",
    "\n",
    "# read in the list of training images\n",
    "df = pd.read_csv(PATH_IN + \"train.csv\")\n",
    "# df = df.head().copy()\n",
    "gc.collect()\n",
    "\n",
    "# idiot-test with first image\n",
    "id_code = df['id_code'].values[0]\n",
    "label = df['diagnosis'].values[0]\n",
    "labels = {}\n",
    "#\n",
    "# SKIP\n",
    "# do the thing... (loop)\n",
    "flip_h = ia.Fliplr(1)\n",
    "flip_v = ia.Flipud(1)\n",
    "g_blur = ia.GaussianBlur(sigma=(0.0, 5.0))\n",
    "rotate = ia.Affine(rotate=(-180, 180))\n",
    "shear = ia.Affine(shear=(-5, 5))\n"
   ]
  },
  {
   "cell_type": "code",
   "execution_count": 2,
   "metadata": {},
   "outputs": [],
   "source": [
    "def get_img(id_code):\n",
    "    img_path = PATH_IMG+id_code+'.png'\n",
    "    img = cv2.imread(img_path)\n",
    "#     plt.imshow(img)\n",
    "    return img\n",
    "\n",
    "def getRadius(img):\n",
    "    circles = cv2.HoughCircles(img,3,1,max(img.shape)/2,param1=50,param2=30,minRadius= int(max(img.shape)/6),maxRadius=max(img.shape))\n",
    "    return circles[0][0][2]"
   ]
  },
  {
   "cell_type": "code",
   "execution_count": 8,
   "metadata": {},
   "outputs": [],
   "source": [
    "for ind in df.index:\n",
    "    id_code = df['id_code'][ind]\n",
    "    diag = df['diagnosis'][ind]\n",
    "    img_array = get_img(id_code)\n",
    "    #crop each image to 80% of fundus diameter\n",
    "    try:\n",
    "        r = getRadius(img_array)\n",
    "        crop_r = round(r*0.8) \n",
    "    except:\n",
    "        crop_r = (img_array.shape[1]/2)*0.8\n",
    "            \n",
    "    center_x = int(img_array.shape[1]/2)\n",
    "    center_y = int(img_array.shape[0]/2)\n",
    "    \n",
    "    left_border = int(center_x - crop_r)\n",
    "    right_border = int(center_x + crop_r)\n",
    "    upper_border = int(center_y - crop_r)\n",
    "    lower_border = int(center_y + crop_r)\n",
    "    \n",
    "    if left_border < 0:\n",
    "        difference = 0- left_border\n",
    "        left_border = 0\n",
    "        right_border -=difference\n",
    "        upper_border += difference\n",
    "        lower_border -= difference\n",
    "    if upper_border < 0:\n",
    "        difference = 0- upper_border\n",
    "        upper_border = 0\n",
    "        lower_border -= difference\n",
    "        left_border += difference\n",
    "        right_border -= difference\n",
    "\n",
    "    cropped = img_array[upper_border:lower_border, left_border:right_border]\n",
    "    #resize image to resnet's expected input size\n",
    "    img = cv2.resize(cropped, (224,224), interpolation = cv2.INTER_CUBIC)\n",
    "    \n",
    "    h = id_code +'_h'\n",
    "    v = id_code + '_v'\n",
    "    rot = id_code +'_rot'\n",
    "    sh = id_code + '_sh'\n",
    "    blur = id_code + '_blur'   \n",
    "    subfolder = '/'+str(diag)+'/'\n",
    "    cv2.imwrite(PATH_OUT+subfolder + h + \".png\",flip_h.augment_image(img))\n",
    "    cv2.imwrite(PATH_OUT+subfolder + v + \".png\",flip_v.augment_image(img))\n",
    "    cv2.imwrite(PATH_OUT+subfolder + rot+ '.png',rotate.augment_image(img))\n",
    "    cv2.imwrite(PATH_OUT+subfolder + sh + \".png\",shear.augment_image(img))\n",
    "    cv2.imwrite(PATH_OUT+subfolder + blur + '.png',g_blur.augment_image(img)) \n",
    "    cv2.imwrite(PATH_OUT+subfolder + id_code + '.png', img)\n",
    "    labels.update(dict.fromkeys([h,v,rot,sh,blur, id_code],diag))\n",
    "    # for each augmentation\n",
    "        # save new image\n",
    "        # update new list of labels"
   ]
  },
  {
   "cell_type": "code",
   "execution_count": 9,
   "metadata": {},
   "outputs": [],
   "source": [
    "lbls = pd.DataFrame()\n",
    "lbls = lbls.from_dict(labels, orient='index', columns = ['diagnosis'])"
   ]
  },
  {
   "cell_type": "code",
   "execution_count": 10,
   "metadata": {},
   "outputs": [],
   "source": [
    "lbls.to_csv(PATH_IN+'drlabels.csv')"
   ]
  },
  {
   "cell_type": "code",
   "execution_count": null,
   "metadata": {},
   "outputs": [],
   "source": []
  }
 ],
 "metadata": {
  "kernelspec": {
   "display_name": "Python 3",
   "language": "python",
   "name": "python3"
  },
  "language_info": {
   "codemirror_mode": {
    "name": "ipython",
    "version": 3
   },
   "file_extension": ".py",
   "mimetype": "text/x-python",
   "name": "python",
   "nbconvert_exporter": "python",
   "pygments_lexer": "ipython3",
   "version": "3.6.6"
  }
 },
 "nbformat": 4,
 "nbformat_minor": 2
}
